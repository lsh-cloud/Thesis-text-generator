{
 "cells": [
  {
   "cell_type": "markdown",
   "id": "afb80d0c",
   "metadata": {},
   "source": [
    "# <center>Thesis text generator\n",
    "\n",
    "A program to generate text using my thesis on the rhenium dichalcogenides.\n",
    "- <a href='#Open'>Open</a>\n",
    "- <a href='#Preprocess'>Preprocess</a>\n",
    "- <a href='#Tokenize'>Tokenize</a>\n",
    "- <a href='#Createmodel'>Create model</a>\n",
    "- <a href='#Plot'>Plot results</a>\n",
    "- <a href='#Generate'>Generate text</a>"
   ]
  },
  {
   "cell_type": "code",
   "execution_count": 1,
   "id": "09a03b09",
   "metadata": {},
   "outputs": [],
   "source": [
    "import tensorflow as tf\n",
    "import numpy as np \n",
    "from tensorflow.keras.layers import Embedding, LSTM, Dense, Bidirectional\n",
    "from tensorflow.keras.models import Sequential\n",
    "from tensorflow.keras.preprocessing.text import Tokenizer\n",
    "from tensorflow.keras.preprocessing.sequence import pad_sequences\n",
    "import os"
   ]
  },
  {
   "cell_type": "markdown",
   "id": "254be425",
   "metadata": {},
   "source": [
    "## Open <a id=\"Open\"></a>"
   ]
  },
  {
   "cell_type": "code",
   "execution_count": 2,
   "id": "a3c985e3",
   "metadata": {},
   "outputs": [],
   "source": [
    "here = os.getcwd()\n",
    "file = here + '/thesis.pdf'"
   ]
  },
  {
   "cell_type": "code",
   "execution_count": 3,
   "id": "f61787f9",
   "metadata": {},
   "outputs": [],
   "source": [
    "import urllib.request\n",
    "\n",
    "# Download thesis from pdf\n",
    "pdf_path = r\"https://purehost.bath.ac.uk/ws/portalfiles/portal/187941844/Lewis_Hart_thesis_final.pdf\"\n",
    "def download_file(download_url, filename):\n",
    "    response = urllib.request.urlopen(download_url)    \n",
    "    file = open(filename, 'wb')\n",
    "    file.write(response.read())\n",
    "    file.close()\n",
    " \n",
    "download_file(pdf_path, file)"
   ]
  },
  {
   "cell_type": "code",
   "execution_count": 4,
   "id": "cd94c929",
   "metadata": {},
   "outputs": [],
   "source": [
    "# for decoding\n",
    "import codecs\n",
    "\n",
    "# using Textract\n",
    "import textract\n",
    "\n",
    "# extract text in byte format\n",
    "textract_text = textract.process(file)\n",
    "\n",
    "# convert bytes to string\n",
    "texts = codecs.decode(textract_text)"
   ]
  },
  {
   "cell_type": "markdown",
   "id": "3a72d7c3",
   "metadata": {},
   "source": [
    "## Preprocessing <a id=\"Preprocess\"></a>"
   ]
  },
  {
   "cell_type": "code",
   "execution_count": 5,
   "id": "6eca23a8",
   "metadata": {},
   "outputs": [],
   "source": [
    "import re\n",
    "import string\n",
    "\n",
    "# Make all text lowercase\n",
    "texts = texts.lower()\n",
    "\n",
    "# Remove special characters, units and other items that are not words\n",
    "texts = re.sub(r'cid.*|φ.*|µ.*|ω.*|ν.*|δ.*|χ.*|˚.*|γ.*|ψ.*|π.*|θ.*|±.*|“|”|†.*|∂.*|α.*|¯.*', '', texts)\n",
    "texts = re.sub(r'.*[0-9](a.*|.*b.*|c.*|.*d.*|e.*|f.*|i.*|d.*)', '', texts)\n",
    "texts = re.sub(r'(?:res)*([0-9]+)','',texts)\n",
    "texts = re.sub('cm.*', '', texts)\n",
    "\n",
    "# Another method to remove items that are not words\n",
    "texts = texts.split()\n",
    "stopwords = ['cid', 's',' c ',' d ',' j ', ' h ',' f ',' g ']\n",
    "texts = [w for w in texts if w not in stopwords]\n",
    "\n",
    "# Remove full stops from text\n",
    "texts = ' '.join(texts)\n",
    "corpus = texts.split(\".\")\n",
    "\n",
    "# Extract introduction section of the thesis\n",
    "del corpus[0:1710]\n",
    "del corpus[1100:]"
   ]
  },
  {
   "cell_type": "markdown",
   "id": "2ec2bffd",
   "metadata": {},
   "source": [
    "## Tokenize <a id=\"Tokenize\"></a>"
   ]
  },
  {
   "cell_type": "code",
   "execution_count": 6,
   "id": "724b211a",
   "metadata": {},
   "outputs": [
    {
     "name": "stdout",
     "output_type": "stream",
     "text": [
      "word index dictionary: {'<oov>': 1, 'the': 2, 'of': 3, 'a': 4, 'in': 5, 'is': 6, 'to': 7, 'and': 8, 'this': 9, 'be': 10, 'that': 11, 'are': 12, 'band': 13, 'can': 14, 'an': 15, 'from': 16, 'as': 17, 'by': 18, 'for': 19, 'these': 20, 'rhenium': 21, 'with': 22, 'monolayer': 23, 'it': 24, 'dichalcogenides': 25, 'raman': 26, 'which': 27, 'there': 28, 'gap': 29, 'crystal': 30, 'using': 31, 'at': 32, 'not': 33, 'arpes': 34, 'paper': 35, 'was': 36, 'energy': 37, 'electronic': 38, 'plane': 39, 'will': 40, 'on': 41, 'has': 42, 'have': 43, 'used': 44, 'electron': 45, 'bulk': 46, 'been': 47, 'i': 48, 'two': 49, 'along': 50, 'et': 51, 'al': 52, 'dft': 53, 'valence': 54, 'n': 55, 'structure': 56, 'state': 57, 'modes': 58, 'chapter': 59, 'rese': 60, 'sample': 61, 'light': 62, 'material': 63, 'also': 64, 'results': 65, 'indirect': 66, 'high': 67, 'work': 68, 'spectroscopy': 69, 'bands': 70, 'crystals': 71, 'materials': 72, 'transition': 73, 'therefore': 74, 'electrons': 75, 'ﬂake': 76, 'calculations': 77, 'direction': 78, 'symmetry': 79, 'measurements': 80, 'density': 81, 'direct': 82, 'however': 83, 'layer': 84, 'tmds': 85, 'brillouin': 86, 'ﬂakes': 87, 'properties': 88, 'number': 89, 'where': 90, 'zone': 91, 'measured': 92, 'system': 93, 'made': 94, 'than': 95, 'one': 96, 'experimental': 97, 'interlayer': 98, 'coupling': 99, '−': 100, 'any': 101, 'all': 102, 'or': 103, 'diﬀerent': 104, 'described': 105, 'such': 106, 'equation': 107, 'vbm': 108, 'photoemission': 109, 'publication': 110, 'when': 111, 'angle': 112, 'change': 113, 'thesis': 114, 'anisotropy': 115, 'given': 116, 'were': 117, 'function': 118, 'surface': 119, 'possible': 120, 'only': 121, 'metal': 122, 'they': 123, 'vibrational': 124, 'layers': 125, 'm': 126, 'like': 127, 'within': 128, 'found': 129, 'x': 130, 'directions': 131, 'chains': 132, 'wolverson': 133, 'dr': 134, 'non': 135, 'large': 136, 'describe': 137, 'measure': 138, 'monolayers': 139, 'lattice': 140, 'group': 141, 'b': 142, 'ﬁrst': 143, 'ﬂat': 144, 'measurement': 145, 'f': 146, 'graphene': 147, 'research': 148, 'some': 149, 'atoms': 150, 'more': 151, 'potential': 152, 'excitons': 153, 'other': 154, 'no': 155, 'determine': 156, 'momentum': 157, 'mode': 158, 'ground': 159, 'thickness': 160, 'charge': 161, 'between': 162, 'make': 163, 'photon': 164, 'result': 165, 'orientation': 166, 'd': 167, 'functional': 168, 'candidate': 169, 'many': 170, 'three': 171, 'low': 172, 'perpendicular': 173, 'spin': 174, 'technique': 175, 'polarisation': 176, 'l': 177, 'experiment': 178, 'mobility': 179, 'very': 180, 'graphite': 181, 'upon': 182, 'identify': 183, 'mass': 184, 'impurities': 185, 'following': 186, 'presented': 187, 'chalcogen': 188, 'data': 189, 'then': 190, 'e': 191, 'whether': 192, 'reports': 193, 'vertical': 194, 'weak': 195, 'substrate': 196, 'expected': 197, 'so': 198, 'calculated': 199, 'intensity': 200, 'photoelectron': 201, 'local': 202, 'due': 203, 'known': 204, 'into': 205, 'most': 206, 'sulphur': 207, 'bilayer': 208, 'c': 209, 'fig': 210, 'states': 211, 'orbit': 212, 'bound': 213, 'if': 214, 'uppermost': 215, 'scattered': 216, 'scattering': 217, 'source': 218, 'photoelectrons': 219, 'cantilever': 220, 'original': 221, 'date': 222, 'being': 223, 'usually': 224, 'section': 225, 'resolved': 226, 'contains': 227, 'atom': 228, 'both': 229, 'few': 230, 'structures': 231, 'through': 232, 'carriers': 233, 'because': 234, 'use': 235, 'done': 236, 'frequency': 237, 'during': 238, 's': 239, 'exfoliated': 240, 'body': 241, 'description': 242, 'vi': 243, 'respectively': 244, 'axis': 245, 'van': 246, 'der': 247, 'waals': 248, 'conduction': 249, 'k': 250, 'y': 251, 'larger': 252, 'does': 253, 'wavefunction': 254, 'over': 255, 'review': 256, 'transport': 257, 'applications': 258, 'nature': 259, 'show': 260, 'position': 261, 'way': 262, 'j': 263, 'afm': 264, 'particle': 265, 'approximation': 266, 'pdms': 267, 'involved': 268, 'manuscript': 269, 'ﬁeld': 270, 'but': 271, 'layered': 272, 'detailed': 273, 'before': 274, 'up': 275, 'deﬁned': 276, 'bonds': 277, 't': 278, 'shown': 279, 'unit': 280, 'atomic': 281, 'exciton': 282, 'binding': 283, 'small': 284, 'same': 285, 'higher': 286, 'evidence': 287, 'p': 288, 'consequence': 289, 'pseudopotential': 290, 'terms': 291, 'ﬁnd': 292, 'anisotropic': 293, 'predict': 294, 'previous': 295, 'may': 296, 'eq': 297, 'transfer': 298, 'active': 299, 'nano': 300, 'beamline': 301, 'published': 302, 'technetium': 303, 'required': 304, 'interesting': 305, 'how': 306, 'four': 307, 'future': 308, 'trilayer': 309, 'top': 310, 'each': 311, 'near': 312, 'interaction': 313, 'strength': 314, 'size': 315, 'constant': 316, 'screening': 317, 'shows': 318, 'involves': 319, 'should': 320, 'optical': 321, 'point': 322, 'z': 323, 'phonon': 324, 'could': 325, 'second': 326, 'approximately': 327, 'medium': 328, 'interacting': 329, 'detected': 330, '·': 331, 'frequencies': 332, 'kinetic': 333, 'ﬁnal': 334, 'ˆh': 335, 'resolution': 336, 'design': 337, 'kohn': 338, 'orientations': 339, 'webb': 340, 'formulation': 341, 'ideas': 342, 'dynamics': 343, 'amount': 344, 'about': 345, 'wave': 346, 'dichalco': 347, 'unlike': 348, 'provided': 349, 'cell': 350, 'form': 351, 'dielectric': 352, 'vacuum': 353, 'en': 354, 'observed': 355, 'now': 356, 'would': 357, 'firstly': 358, 'predicted': 359, 'pressure': 360, 'tape': 361, 'placed': 362, 'edge': 363, 'growth': 364, 'maximum': 365, 'clean': 366, 'similar': 367, 'coordinates': 368, 'gaps': 369, 'ev': 370, 'across': 371, 'ray': 372, 'emitted': 373, 'much': 374, 'initial': 375, 'stage': 376, 'performed': 377, 'schr¨odinger': 378, 'eﬀective': 379, 'spring': 380, 'relationship': 381, 'journal': 382, 'comes': 383, 'depends': 384, 'sec': 385, 'genides': 386, 'exhibit': 387, 'single': 388, 'considered': 389, 'below': 390, 'mos': 391, 'left': 392, 'right': 393, 'hexagon': 394, 'increases': 395, 'becomes': 396, 'smaller': 397, 'contain': 398, 'strong': 399, 'splitting': 400, 'force': 401, 'describes': 402, 'depend': 403, 'signiﬁcant': 404, 'energies': 405, 'well': 406, 'move': 407, 'long': 408, 'lamfers': 409, 'mentioned': 410, 'phase': 411, 'exfoliation': 412, 'thin': 413, 'method': 414, 'quality': 415, 'dispersions': 416, 'spectra': 417, 'probability': 418, 'thought': 419, 'dispersive': 420, 'conservation': 421, 'needs': 422, 'lda': 423, 'ratio': 424, 'useful': 425, 'excitation': 426, 'emission': 427, 'stokes': 428, 'centre': 429, 'tensor': 430, 'must': 431, 'ii': 432, 'iii': 433, 'photons': 434, 'focus': 435, 'detector': 436, 'ccd': 437, 'spot': 438, 'beam': 439, 'synchrotron': 440, 'main': 441, 'contact': 442, 'correlation': 443, 'xc': 444, 'semiconductors': 445, 'preparation': 446, 'declaration': 447, 'concerns': 448, 'article': 449, 'entitled': 450, 'status': 451, 'tick': 452, 'draft': 453, 'submitted': 454, 'accepted': 455, 'hart': 456, 'details': 457, 'refer': 458, 'ence': 459, 'candidate’s': 460, 'contribution': 461, 'methodology': 462, 'percentage': 463, 'computational': 464, 'presentation': 465, 'format': 466, 'statement': 467, 'conducted': 468, 'candi': 469, 'period': 470, 'my': 471, 'degree': 472, 'candidature': 473, 'signature': 474, 'creative': 475, 'commons': 476, 'attribution': 477, 'license': 478, 'permits': 479, 'unrestricted': 480, 'reproduction': 481, 'author': 482, 'credited': 483, 'https': 484, 'creativecommons': 485, 'org': 486, 'licenses': 487, 'pages': 488, 'spans': 489, 'maxima': 490, 'its': 491, 'highest': 492, 'eﬀect': 493, 'introducing': 494, 'exciting': 495, 'new': 496, 'chapters': 497, 'look': 498, 'studies': 499, 'selenium': 500, 'forces': 501, 'tmd': 502, 'perturbed': 503, 'points': 504, 'hopping': 505, 'contrast': 506, 'another': 507, 'soc': 508, 'inversion': 509, 'hole': 510, 'diagram': 511, 'wannier': 512, 'mott': 513, 'means': 514, 'dimensional': 515, 'having': 516, 'space': 517, 'agree': 518, 'secondly': 519, 'alternative': 520, 'calculation': 521, 'occurs': 522, 'produce': 523, 'need': 524, 'containing': 525, 'follows': 526, 'determined': 527, 'time': 528, 'called': 529, 'gga': 530, 'negligible': 531, 'reciprocal': 532, 'signal': 533, 'theoretical': 534, 'ways': 535, 'measuring': 536, 'vibrations': 537, 'u': 538, 'spatial': 539, 'term': 540, 'gives': 541, 'degenerate': 542, 'solid': 543, 'pixels': 544, 'tool': 545, 'step': 546, 'interactions': 547, 'antares': 548, 'uhv': 549, 'dry': 550, 'external': 551, 'hohenberg': 552, 'corresponding': 553, 'information': 554, 'exchange': 555, 'vicinity': 556, 'intensities': 557, 'prepared': 558, 'identifying': 559, 'model': 560, 'contributed': 561, 'compare': 562, 'help': 563, 'lying': 564, 'transistors': 565, 'fets': 566, 'considerable': 567, 'why': 568, 'physics': 569, 'strongly': 570, 'mobilities': 571, 'triclinic': 572, 'currently': 573, 'next': 574, 'techniques': 575, 'give': 576, 'utilising': 577, 'finally': 578, 'detail': 579, 'chalcogens': 580, 'lie': 581, 'together': 582, 'prismatic': 583, 'directly': 584, 'positions': 585, 'yellow': 586, 'ref': 587, 'labels': 588, 'cause': 589, 'chemical': 590, 'elements': 591, 'slightly': 592, 'distance': 593, 'silicon': 594, 'motion': 595, 'reason': 596, 'based': 597, 'aforementioned': 598, 'thus': 599, 'nanometres': 600, 'order': 601, 'whilst': 602, 'deduced': 603, 'them': 604, 'down': 605, 'literature': 606, 'progress': 607, 'stable': 608, 'distortion': 609, 'after': 610, 'semiconductor': 611, 'distorted': 612, 'above': 613, 'ho': 614, 'r': 615, 'micromechanical': 616, 'oﬀ': 617, 'enough': 618, 'slowly': 619, 'case': 620, 'grown': 621, 'procedure': 622, 'assumed': 623, 'produced': 624, 'cvd': 625, 'electronically': 626, 'applied': 627, 'transitions': 628, 'vectors': 629, 'inequivalent': 630, 'parabolic': 631, 'cbm': 632, 'changes': 633, 'previously': 634, 'pl': 635, 'assumption': 636, 'likely': 637, 'obtained': 638, 'doping': 639, 'selection': 640, 'linearly': 641, 'good': 642, 'requirements': 643, 'range': 644, 'utilise': 645, 'free': 646, 'h': 647, 'interest': 648, 'event': 649, 'independent': 650, 'electric': 651, 'susceptibility': 652, 'vibration': 653, 'derived': 654, 'equal': 655, 'spectrometer': 656, 'intense': 657, 'microscopy': 658, 'laser': 659, 'dispersion': 660, 'designed': 661, 'core': 662, 'momenta': 663, 'travel': 664, 'process': 665, 'soleil': 666, 'highly': 667, 'nm': 668, 'fzp': 669, 'photodetector': 670, 'experi': 671, 'polymer': 672, 'ﬁlm': 673, 'obtain': 674, 'contained': 675, 'modiﬁed': 676, 'fhk': 677, 'nuclei': 678, 'located': 679, 'equivalent': 680, 'gradient': 681, 'dichalcogenide': 682, 'line': 683, 'samples': 684, 'ments': 685, 'writing': 686, 'out': 687, 'dale': 688, 'vol': 689, 'distribution': 690, 'title': 691, 'simple': 692, 'ball': 693, 'predictions': 694, 'chain': 695, 'taking': 696, 'geometry': 697, 'scientists': 698, 'bubbles': 699, 'amongst': 700, 'commercial': 701, 'desirable': 702, 'fet': 703, 'introduction': 704, 'clear': 705, 'physical': 706, 'varying': 707, 'temperature': 708, 'perhaps': 709, 'particular': 710, 'nium': 711, 'alongside': 712, 'held': 713, 'ten': 714, 'trigonal': 715, 'coordination': 716, 'planes': 717, 'semi': 718, 'orbitals': 719, 'relatively': 720, 'region': 721, 'compared': 722, 'relativistic': 723, 'greater': 724, 'eﬀects': 725, 'asymmetric': 726, 'excited': 727, 'frenkel': 728, 'poor': 729, 'neighbouring': 730, 'allows': 731, 'example': 732, 'figure': 733, 'recent': 734, 'image': 735, 'further': 736, 'away': 737, 'bond': 738, 'short': 739, 're': 740, 'shape': 741, 'labelled': 742, 'lin': 743, 'lithium': 744, 'magnetic': 745, 'lower': 746, 'peeling': 747, 'peeled': 748, 'behind': 749, 'typically': 750, 'polarised': 751, 'approach': 752, 'making': 753, 'grow': 754, 'decoupled': 755, 'wavefunctions': 756, 'behaviour': 757, 'even': 758, 'gdw': 759, 'including': 760, 'cuts': 761, 'demonstrate': 762, 'whereas': 763, 'ﬁgure': 764, 'forms': 765, 'still': 766, 'smallest': 767, 'nevertheless': 768, 'indicate': 769, 'tongay': 770, 'relaxation': 771, 'fulﬁl': 772, 'furthermore': 773, 'liu': 774, 'represents': 775, 'choice': 776, 'interband': 777, 'rules': 778, 'current': 779, 'pass': 780, 'parallel': 781, 'itself': 782, 'linear': 783, 'concentration': 784, 'moreover': 785, 'utilised': 786, 'producing': 787, 'replace': 788, 'commonly': 789, 'devices': 790, 'device': 791, 'rather': 792, 'inelastically': 793, 'spectrum': 794, 'shift': 795, 'anti': 796, 'ul': 797, 'correspond': 798, 'polarisability': 799, 'explained': 800, 'theory': 801, '\\uf8ef': 802, '\\uf8fa': 803, 'renishaw': 804, 'necessary': 805, 'without': 806, 'count': 807, 'easy': 808, 'quick': 809, 'identiﬁed': 810, 'oscillate': 811, 'eb': 812, 'minimum': 813, 'explore': 814, 'instead': 815, 'operator': 816, 'uses': 817, 'set': 818, '∼': 819, 'precision': 820, 'particles': 821, 'onto': 822, 'scanned': 823, 'ment': 824, 'viscoelastic': 825, 'less': 826, 'glass': 827, 'slide': 828, 'transferred': 829, 'see': 830, 'principle': 831, 'solve': 832, 'behave': 833, 'unique': 834, 'map': 835, 'unfortunately': 836, 'ehartree': 837, 'exc': 838, 'exact': 839, 'do': 840, 'analysis': 841, 'rapidly': 842, 'oscillations': 843, 'place': 844, 'miss': 845, 'helped': 846, 'supporting': 847, 'hoped': 848, 'alloys': 849, 'doped': 850, 'dopants': 851, 'noise': 852, 'mea': 853, 'investigate': 854, 'taken': 855, 'mucha': 856, 'kruczynski': 857, 'pseudopotentials': 858, 'chamber': 859, 'annealed': 860, 'curves': 861, 'kz': 862, 'gunasekera': 863, 'since': 864, 'wonder': 865, 'remarkable': 866, 'reported': 867, 'value': 868, 'application': 869, 'pristine': 870, 'lacks': 871, 'create': 872, 'might': 873, 'bilayers': 874, 'tuned': 875, 'family': 876, 'investigated': 877, 'background': 878, 'key': 879, 'ab': 880, 'initio': 881, 'examples': 882, 'conclusion': 883, 'take': 884, 'better': 885, 'members': 886, 'metals': 887, 'sandwich': 888, 'consist': 889, 'characteristics': 890, 'middle': 891, 'six': 892, 'octahedral': 893, 'bottom': 894, 'diﬀers': 895, 'conﬁguration': 896, 'balls': 897, 'common': 898, 'numbers': 899, 'empty': 900, 'hexagonal': 901, 'around': 902, 'pz': 903, 'remains': 904, 'property': 905, 'cou': 906, 'lack': 907, 'interact': 908, 'leading': 909, 'via': 910, 'coulomb': 911, 'quasiparticle': 912, 'formed': 913, 'type': 914, 'exists': 915, 'air': 916, 'conventional': 917, 'quantum': 918, 'substantial': 919, 'showing': 920, 'addition': 921, 'holes': 922, 'questions': 923, 'surrounding': 924, 'recently': 925, 'initially': 926, 'ﬁnally': 927, 'corrugated': 928, 'stacks': 929, 'closer': 930, 'groups': 931, 'act': 932, 'ﬁlled': 933, 'report': 934, 'quasi': 935, 'se': 936, 'longer': 937, 'amplitude': 938, 'parallelogram': 939, 'weakly': 940, 'contrary': 941, 'stated': 942, 'wildervanck': 943, 'jariwala': 944, 'phases': 945, 't’': 946, 'diamond': 947, 'too': 948, 'defects': 949, 'induced': 950, 'lengths': 951, 'altered': 952, 'best': 953, 'gpa': 954, 'pressures': 955, 'achieved': 956, 'scotch': 957, 'break': 958, 'leaving': 959, 'longest': 960, 'processes': 961, 'mechanical': 962, 'precursors': 963, 'desired': 964, 'vary': 965, 'novel': 966, 'overlap': 967, 'needed': 968, 'arora': 969, 'authors': 970, 'conﬁnement': 971, 'represented': 972, 'zero': 973, 'reproduced': 974, 'earlier': 975, 'locate': 976, 'zelewski': 977, 'self': 978, 'missed': 979, 'conclusions': 980, 'those': 981, 'again': 982, 'mediated': 983, 'peak': 984, 'despite': 985, 'electroluminescence': 986, 'indeed': 987, 'zhong': 988, 'gehlmann': 989, '‡': 990, 'symbol': 991, 'perturbation': 992, 'removed': 993, 'selectively': 994, 'surements': 995, 'responsible': 996, 'occur': 997, 'origin': 998, 'excitonic': 999, 'transistor': 1000, 'essential': 1001, 'ﬂexible': 1002, 'largest': 1003, 'poorer': 1004, 'manifests': 1005, 'birefringence': 1006, 'detect': 1007, 'respect': 1008, 'absorbed': 1009, 'increased': 1010, 'illuminated': 1011, 'certain': 1012, 'polarisations': 1013, 'yang': 1014, 'include': 1015, 'reactions': 1016, 'industrial': 1017, 'challenges': 1018, 'scientiﬁc': 1019, 'hydrogen': 1020, 'component': 1021, 'ions': 1022, 'vdwhs': 1023, 'hand': 1024, 'events': 1025, 'lost': 1026, 'gained': 1027, 'wavenumbers': 1028, 'describing': 1029, 'originate': 1030, 'periodic': 1031, 'displacement': 1032, 'expansion': 1033, 'changing': 1034, '×': 1035, 'oscillating': 1036, 'rjk': 1037, 'ei': 1038, '∝': 1039, 'es': 1040, 'rule': 1041, 'equations': 1042, 'seen': 1043, 'predicting': 1044, 'perturb': 1045, 'mulliken': 1046, 'subscript': 1047, 'symmetric': 1048, 'principal': 1049, 'v': 1050, 'belongs': 1051, 'inelastic': 1052, 'passing': 1053, 'detecting': 1054, 'array': 1055, 'diﬀraction': 1056, 'separated': 1057, 'ultra': 1058, 'invasive': 1059, 'introduce': 1060, 'liberated': 1061, 'analyser': 1062, 'mekinsin': 1063, 'quantities': 1064, 'laws': 1065, 'relies': 1066, 'calculate': 1067, 'approximations': 1068, 'completely': 1069, 'wf': 1070, 'steps': 1071, 'escape': 1072, 'couple': 1073, 'sensitive': 1074, 'sudden': 1075, 'product': 1076, 'assuming': 1077, 'follow': 1078, 'path': 1079, 'charged': 1080, 'rotate': 1081, 'moved': 1082, 'nanoscale': 1083, 'experiments': 1084, 'scienta': 1085, 'heterostructures': 1086, 'placing': 1087, 'recipient': 1088, 'carefully': 1089, 'holder': 1090, 'looking': 1091, 'microscope': 1092, 'colour': 1093, 'theorem': 1094, 'showed': 1095, 'indicates': 1096, 'explicit': 1097, 'sham': 1098, 'scheme': 1099, 'inter': 1100, 'eks': 1101, '∇': 1102, 'born': 1103, 'oppenheimer': 1104, 'ﬁnding': 1105, 'expanded': 1106, 'close': 1107, 'nucleus': 1108, 'orthogonal': 1109, 'accurate': 1110, 'remove': 1111, 'beyond': 1112, 'radius': 1113, 'generalised': 1114, 'gas': 1115, 'studied': 1116, 'extensively': 1117, 'solely': 1118, 'tip': 1119, 'deﬂection': 1120, 'reﬂected': 1121, 'resonant': 1122, 'ideal': 1123, 'realised': 1124, 'hoye': 1125, 'orien': 1126, 'tations': 1127, 'letters': 1128, 'predominantly': 1129, 'executed': 1130, 'rhe': 1131, 'facing': 1132, 'multiple': 1133, 'dependences': 1134, 'surprising': 1135, 'interpretation': 1136, 'distri': 1137, 'bution': 1138, 'scale': 1139, 'factor': 1140, 'we': 1141, 'conﬁdence': 1142, 'mentally': 1143, 'rese−xsx': 1144, 'increase': 1145, 'dopant': 1146, 'alloy': 1147, 'last': 1148, 'understanding': 1149, 'introduced': 1150, 'investigates': 1151, 'murkin': 1152, 'considerably': 1153, 'improve': 1154, 'averaging': 1155, 'ﬁgures': 1156, 'absent': 1157, 'bandstructure': 1158, 'locations': 1159, 'b∗': 1160, 'bending': 1161, 'chen': 1162, 'avila': 1163, 'agreement': 1164, 'situ': 1165, 'facility': 1166, 'kx': 1167, 'ky': 1168, 'investigations': 1169, 'determining': 1170, 'cleaved': 1171, 'angles': 1172, 'contaminants': 1173, 'impede': 1174, 'conductive': 1175, 'charging': 1176, 'annealing': 1177, 'combining': 1178, 'translating': 1179, 'diﬀerence': 1180, 'zones': 1181, 'fully': 1182, 'derivatives': 1183, 'displayed': 1184, 'aﬀect': 1185, 'relation': 1186, 'thicker': 1187, 'true': 1188, 'note': 1189, 'explain': 1190, 'explored': 1191, 'somewhat': 1192, 'named': 1193, 'press': 1194, 'reasoning': 1195, 'name': 1196, 'great': 1197, 'strained': 1198, 'success': 1199, 'diminishes': 1200, 'conductances': 1201, 'discovery': 1202, 'condensed': 1203, 'matter': 1204, 'community': 1205, 'superlatives': 1206, 'playground': 1207, 'ask': 1208, 'simply': 1209, 'correlated': 1210, 'suggesting': 1211, 'appli': 1212, 'cations': 1213, 'outline': 1214, 'what': 1215, 'followed': 1216, 'dy': 1217, 'namics': 1218, 'cal': 1219, 'photoe': 1220, 'molybdenum': 1221, 'tellurium': 1222, 'sandwiched': 1223, 'stacked': 1224, 'suﬃcient': 1225, 'extra': 1226, 'added': 1227, 'covalent': 1228, 'lies': 1229, 'either': 1230, 'arrangement': 1231, 'staggered': 1232, 'num': 1233, 'diagrams': 1234, 'polytypes': 1235, 'polymorphs': 1236, 'orbital': 1237, 'fold': 1238, 'degeneracy': 1239, 'features': 1240, 'conductors': 1241, 'understand': 1242, 'imperative': 1243, 'integral': 1244, 'particularly': 1245, 'mostly': 1246, 'localised': 1247, 'unaﬀected': 1248, 'pling': 1249, 'originates': 1250, 'tends': 1251, 'heavy': 1252, 'compounds': 1253, 'opposing': 1254, 'spins': 1255, 'diﬀerently': 1256, 'situated': 1257, 'types': 1258, 'weakened': 1259, 'cells': 1260, 'experience': 1261, 'typ': 1262, 'ically': 1263, 'magnitude': 1264, 'extending': 1265, 'compares': 1266, 'sizes': 1267, 'lines': 1268, 'extend': 1269, 'dimensionality': 1270, 'neutral': 1271, 'trions': 1272, 'trion': 1273, 'quasiparticles': 1274, 'bi': 1275, 'mental': 1276, 'remained': 1277, 'unanswered': 1278, 'until': 1279, 'semiconduc': 1280, 'tors': 1281, 'address': 1282, 'try': 1283, 'answer': 1284, 'view': 1285, 'sandwiches': 1286, 'surfaces': 1287, 'wiches': 1288, 'consists': 1289, 'unstable': 1290, 'undergo': 1291, 'neighbour': 1292, 'cost': 1293, 'outweighed': 1294, 'beneﬁts': 1295, 'half': 1296, 'peierls': 1297, 'except': 1298, 'important': 1299, 'exempliﬁed': 1300, 'noted': 1301, 'surrounded': 1302, 'octahedron': 1303, 'sits': 1304, 'leaves': 1305, 'β': 1306, 'parameters': 1307, 'aberration': 1308, 'deﬁciencies': 1309, 'intercalation': 1310, 'induce': 1311, 'forming': 1312, 'dimers': 1313, 'trimers': 1314, 'transforms': 1315, 'study': 1316, 'isolation': 1317, 'exfoli': 1318, 'broken': 1319, 'action': 1320, 'cotton': 1321, 'bud': 1322, 'exfoliate': 1323, 'parallelograms': 1324, 'edges': 1325, 'par': 1326, 'allelograms': 1327, 'axes': 1328, 'always': 1329, 'proof': 1330, 'bridgman': 1331, 'agent': 1332, 'iodine': 1333, 'bromine': 1334, 'involve': 1335, 'microns': 1336, 'vapour': 1337, 'deposition': 1338, 'react': 1339, 'heated': 1340, 'controlled': 1341, 'tuning': 1342, 'ﬂow': 1343, 'rate': 1344, 'temperatures': 1345, 'belong': 1346, 'argument': 1347, 'ordered': 1348, 'stacking': 1349, 'beneﬁcial': 1350, 'minimal': 1351, 'decoupling': 1352, 'support': 1353, 'decrease': 1354, 'hops': 1355, 'hop': 1356, 'decreased': 1357, 'under': 1358, 'trapped': 1359, 'individual': 1360, 'stating': 1361, 'distances': 1362, 'orange': 1363, 'un': 1364, 'controversy': 1365, 'answered': 1366, 'deﬁnitively': 1367, 'disagreement': 1368, 'zhao': 1369, 'piezoreﬂectance': 1370, 'modulated': 1371, 'reﬂectance': 1372, 'gw': 1373, 'corrections': 1374, 'strictly': 1375, 'diﬃcult': 1376, 'calulations': 1377, 'according': 1378, 'numerous': 1379, 'principles': 1380, 'sources': 1381, 'absorbing': 1382, 'fair': 1383, 'aﬃrmation': 1384, 'loss': 1385, 'echeverry': 1386, 'sun': 1387, 'indicated': 1388, 'deduce': 1389, 'accurately': 1390, 'prediction': 1391, 'strain': 1392, 'indicative': 1393, 'modiﬁes': 1394, 'contributions': 1395, 'intends': 1396, 'correctly': 1397, 'incorporate': 1398, 'sos': 1399, 'tightly': 1400, 'redshift': 1401, 'weaker': 1402, 'promising': 1403, 'digital': 1404, 'meaning': 1405, 'bend': 1406, 'watch': 1407, 'screens': 1408, 'field': 1409, 'mo': 1410, 'bilities': 1411, 'ranging': 1412, 'dif': 1413, 'vacancies': 1414, 'eﬃcient': 1415, 'predicts': 1416, 'conductance': 1417, 'tiong': 1418, 'electronics': 1419, 'optics': 1420, 'just': 1421, 'interacts': 1422, 'aﬀected': 1423, 'circular': 1424, 'dichalcogendies': 1425, 'dichroism': 1426, 'carrier': 1427, 'genide': 1428, 'ﬂowing': 1429, 'voltage': 1430, 'makes': 1431, 'pho': 1432, 'todetectors': 1433, 'eﬃciently': 1434, 'ampliﬁcation': 1435, 'conductivity': 1436, 'waveplates': 1437, 'promise': 1438, 'catalysts': 1439, 'reduce': 1440, 'pollutants': 1441, 'emissions': 1442, 'big': 1443, 'modern': 1444, 'science': 1445, 'environmentally': 1446, 'hydrodesulfurisation': 1447, 'hds': 1448, 'reaction': 1449, 'reduces': 1450, 'standard': 1451, 'areas': 1452, 'advancement': 1453, 'fossil': 1454, 'fuels': 1455, 'battery': 1456, 'ion': 1457, 'batteries': 1458, 'storage': 1459, 'their': 1460, 'cycle': 1461, 'life': 1462, 'instance': 1463, 'phosphorene': 1464, 'bn': 1465, 'insulator': 1466, 'fabricated': 1467, 'heterostructure': 1468, 'vdwh': 1469, 'extensive': 1470, 'list': 1471, 'emitting': 1472, 'diodes': 1473, 'rea': 1474, 'whs': 1475, 'development': 1476, 'probed': 1477, 'arrows': 1478, 'specialist': 1479, 'loses': 1480, 'scatter': 1481, 'ing': 1482, 'gains': 1483, 'tutorial': 1484, 'dependence': 1485, 'oscillatory': 1486, 'variations': 1487, 'equilibrium': 1488, 'angular': 1489, 'displacements': 1490, '≈': 1491, 'run': 1492, 'pj': 1493, 'cos': 1494, 'cases': 1495, 'phonons': 1496, 'molecules': 1497, 'classical': 1498, 'proportional': 1499, 'molecule': 1500, 'cor': 1501, 'respond': 1502, 'irreducible': 1503, 'representations': 1504, 'transform': 1505, 'quadrat': 1506, 'learn': 1507, 'symbols': 1508, 'g': 1509, 'doubly': 1510, 'triply': 1511, 'symmtery': 1512, '\\uf8ee': 1513, '\\uf8f0': 1514, 'w': 1515, '\\uf8f9': 1516, '\\uf8fb': 1517, 'ag': 1518, 'tell': 1519, 'us': 1520, 'million': 1521, 'lasers': 1522, 'normally': 1523, 'objective': 1524, 'lenses': 1525, 'collecting': 1526, 'collection': 1527, 'eﬃciency': 1528, 'rayleigh': 1529, 'elastically': 1530, 'rejected': 1531, 'holographic': 1532, 'notch': 1533, 'ﬁlter': 1534, 'prevents': 1535, 'capable': 1536, 'dispersed': 1537, 'grating': 1538, 'wavelengths': 1539, 'spatially': 1540, 'diﬀering': 1541, 'comparing': 1542, 'crystalline': 1543, 'rigid': 1544, 'compression': 1545, 'breathing': 1546, 'corresponds': 1547, 'shear': 1548, 'identiﬁ': 1549, 'observing': 1550, 'monochromatic': 1551, 'soft': 1552, 'ekin': 1553, 'level': 1554, 'vector': 1555, 'mekincos': 1556, 'conserved': 1557, 'neglected': 1558, 'dimensions': 1559, 'exits': 1560, 'past': 1561, 'variation': 1562, 'stationary': 1563, 'ef': 1564, 'fermi': 1565, 'nearly': 1566, 'curved': 1567, 'discussion': 1568, 'damascelli': 1569, 'fermi’s': 1570, 'golden': 1571, 'mc': 1572, 'speed': 1573, 'stimulation': 1574, 'chance': 1575, 'overcome': 1576, 'typical': 1577, 'consider': 1578, 'energetically': 1579, 'unfavourable': 1580, 'relax': 1581, 'instant': 1582, 'remaining': 1583, 'antisymmetric': 1584, 'slater': 1585, 'determinant': 1586, 'element': 1587, 'dipole': 1588, 'matrix': 1589, 'micron': 1590, 'lateral': 1591, 'oﬀered': 1592, 'facilitates': 1593, 'objects': 1594, 'equipment': 1595, 'paris': 1596, 'monochromated': 1597, 'rays': 1598, 'fulﬁls': 1599, 'produces': 1600, 'series': 1601, 'magnets': 1602, 'continuously': 1603, 'sinusoidal': 1604, 'accelerated': 1605, 'accelerating': 1606, 'emit': 1607, 'passed': 1608, 'monochromator': 1609, 'supply': 1610, 'ﬂux': 1611, 'fresnel': 1612, 'plates': 1613, 'focusses': 1614, 'aperture': 1615, 'osa': 1616, 'polar': 1617, 'cham': 1618, 'unimpeded': 1619, 'inside': 1620, 'acted': 1621, 'hemispherical': 1622, 'acts': 1623, 'disperse': 1624, 'focussed': 1625, 'coupled': 1626, 'pixel': 1627, 'entrance': 1628, 'slit': 1629, 'choose': 1630, 'detectors': 1631, 'photo': 1632, 'deﬂectors': 1633, 'redirect': 1634, 'instrument': 1635, 'elimination': 1636, 'advantageous': 1637, 'rotates': 1638, 'exactly': 1639, 'facilitate': 1640, 'production': 1641, 'micrometer': 1642, 'building': 1643, 'built': 1644, 'wet': 1645, 'picking': 1646, 'sacriﬁcial': 1647, 'dispose': 1648, 'residue': 1649, 'mention': 1650, 'adhesive': 1651, 'deformed': 1652, 'trying': 1653, 'avoid': 1654, 'wrinkling': 1655, 'micromechanically': 1656, 'subsequently': 1657, 'connected': 1658, 'translation': 1659, 'degrees': 1660, 'freedom': 1661, 'beneath': 1662, 'translated': 1663, 'aligned': 1664, 'stamp': 1665, 'brought': 1666, 'preferentially': 1667, 'adhere': 1668, 'detach': 1669, 'bought': 1670, 'gel': 1671, 'pakﬁ': 1672, 'helium': 1673, 'hamiltonian': 1674, 'impractical': 1675, 'supercomputers': 1676, 'variables': 1677, 'framework': 1678, 'charac': 1679, 'teristics': 1680, 'static': 1681, 'seminal': 1682, 'uniquely': 1683, 'part': 1684, 'variational': 1685, 'prin': 1686, 'ciple': 1687, 'minimised': 1688, 'global': 1689, 'minimises': 1690, 'eii': 1691, 'unknown': 1692, 'analytic': 1693, 'vext': 1694, 'rewritten': 1695, 'acting': 1696, 'hartree': 1697, 'grouped': 1698, 'assumptions': 1699, 'start': 1700, 'feasible': 1701, 'proposed': 1702, 'solutions': 1703, 'interactionless': 1704, 'derivation': 1705, 'heavier': 1706, 'min': 1707, 'imising': 1708, 'led': 1709, 'euler': 1710, 'lagrange': 1711, 'minimising': 1712, 'densities': 1713, 'third': 1714, 'guess': 1715, 'input': 1716, 'correct': 1717, 'said': 1718, 'consistent': 1719, 'illustrated': 1720, 'trial': 1721, 'coeﬃcients': 1722, 'representation': 1723, 'solving': 1724, 'centred': 1725, 'basis': 1726, 'codes': 1727, 'fourier': 1728, 'represent': 1729, 'smooth': 1730, 'problem': 1731, 'eigenstates': 1732, 'rapid': 1733, 'nor': 1734, 'calculating': 1735, 'trick': 1736, 'orthogonality': 1737, 'chosen': 1738, 'actual': 1739, 'actions': 1740, 'tron': 1741, 'incorporating': 1742, 'elda': 1743, 'homogeneous': 1744, 'mogeneous': 1745, 'egga': 1746, 'probes': 1747, 'topology': 1748, 'gerd': 1749, 'binnig': 1750, 'who': 1751, 'heinrich': 1752, 'rohrer': 1753, 'awarded': 1754, 'nobel': 1755, 'prize': 1756, 'inventing': 1757, 'scanning': 1758, 'tunnelling': 1759, 'stm': 1760, 'sharp': 1761, 'electrostatic': 1762, 'apparatus': 1763, 'schematic': 1764, 'picture': 1765, 'operation': 1766, 'mirror': 1767, 'back': 1768, 'deﬂected': 1769, 'interatomic': 1770, 'object': 1771, 'driven': 1772, 'presence': 1773, 'oscillation': 1774, 'rough': 1775, 'demonstrated': 1776, 'took': 1777, 'able': 1778, 'calcu': 1779, 'lations': 1780, 'carried': 1781, 'preliminary': 1782, 'pp': 1783, '–': 1784, 'lot': 1785, 'investigation': 1786, 'utilises': 1787, 'grew': 1788, 'brieﬂy': 1789, 'here': 1790, 'demonstrates': 1791, 'de': 1792, 'termining': 1793, 'validity': 1794, 'toreﬂectivity': 1795, 'periodically': 1796, 'photoreﬂectivity': 1797, 'conﬁrm': 1798, 'piezoreﬂectivity': 1799, 'none': 1800, 'easily': 1801, 'reproducible': 1802, 'noticed': 1803, 'looks': 1804, 'modelling': 1805, 'aims': 1806, 'unexplored': 1807, 'tech': 1808, 'netium': 1809, 'radioactive': 1810, 'aid': 1811, 'conceived': 1812, 'idea': 1813, 'possibility': 1814, 'testing': 1815, 'our': 1816, 'peaks': 1817, 'estimate': 1818, 'disulphide': 1819, 'reasonable': 1820, 'lighter': 1821, 'cently': 1822, 'citing': 1823, 'photodetectors': 1824, 'feature': 1825, 'mose': 1826, 'wen': 1827, 'had': 1828, 'looked': 1829, 'undertook': 1830, 'analysed': 1831, 'mr': 1832, 'o': 1833, 'phur': 1834, 'spread': 1835, 'observable': 1836, 'major': 1837, 'project': 1838, 'approaches': 1839, 'invoked': 1840, 'exposure': 1841, 'saturated': 1842, 'oﬀers': 1843, 'software': 1844, 'hour': 1845, 'readout': 1846, 'averages': 1847, 'surement': 1848, 'oscillates': 1849, 'locally': 1850, 'although': 1851, 'projects': 1852, 'revealed': 1853, 'quantiﬁed': 1854, 'timely': 1855, 'carries': 1856, 'asensio': 1857, 'complemented': 1858, 'excellent': 1859, 'giving': 1860, 'mine': 1861, 'observe': 1862, 'alkali': 1863, 'facilities': 1864, 'available': 1865, 'lating': 1866, 'gave': 1867, 'agreed': 1868, 'complementary': 1869, 'struc': 1870, 'culations': 1871, 'helpful': 1872, 'thanks': 1873, 'technological': 1874, 'advancements': 1875, 'exfoliates': 1876, 'successfully': 1877, 'challenging': 1878, 'preparing': 1879, 'conditions': 1880, 'exposing': 1881, 'fresh': 1882, 'prepare': 1883, 'cannot': 1884, 'achieve': 1885, 'curvature': 1886, 'turn': 1887, 'error': 1888, 'journey': 1889, 'prevent': 1890, 'replenished': 1891, 'become': 1892, 'attached': 1893, 'freshly': 1894, 'deterministically': 1895, 'pull': 1896, 'adopt': 1897, 'hq': 1898, 'cleaned': 1899, 'solvent': 1900, 'wash': 1901, 'acetone': 1902, 'isopropanol': 1903, 'reasons': 1904, 'ﬂatness': 1905, 'stamped': 1906, 'wrinkles': 1907, 'stress': 1908, 'fewer': 1909, 'total': 1910, 'reduced': 1911, 'conﬁrms': 1912, 'prior': 1913, 'once': 1914, 'transported': 1915, 'repeated': 1916, 'noteworthy': 1917, 'epitaxial': 1918, 'acquisition': 1919, 'explores': 1920, 'thogonal': 1921, 'visible': 1922, 'superimposed': 1923, 'overlaid': 1924, 'elec': 1925, 'tronic': 1926, 'appear': 1927, 'incorporated': 1928, 'becoming': 1929, 'purity': 1930, 'blue': 1931, 'projection': 1932, 'know': 1933, 'latter': 1934, 'green': 1935, 'representing': 1936, 'grey': 1937, 'explanation': 1938, 'adjacent': 1939, 'resulting': 1940, 'attributed': 1941, 'characteristic': 1942, 'mev': 1943, 'depicted': 1944, 'asterisks': 1945, 'presents': 1946, 'ship': 1947, 'interestingly': 1948, 'suﬃciently': 1949, 'thick': 1950, 'thing': 1951, 'clearly': 1952, 'require': 1953, 'limit': 1954, 'conﬂicting': 1955, 'location': 1956, 'mistake': 1957, 'caption': 1958, 'sentence': 1959, 'vb': 1960, 'cb': 1961, 'restricted': 1962, 'dashed': 1963, 'vice': 1964, 'versa': 1965, 'toemission': 1966, 'mission': 1967, 'regions': 1968, 'sured': 1969, 'comparisons': 1970, 'caution': 1971, 'obtaining': 1972, 'values': 1973, 'ﬁtting': 1974, 'parabola': 1975, 'aware': 1976, 'controversial': 1977, 'argue': 1978, 'come': 1979, 'papers': 1980, 'entire': 1981, 'mar': 1982, 'contradictory': 1983, 'eickholt': 1984, 'agrees': 1985, 'ﬁndings': 1986, 'semiconducting': 1987, 'fur': 1988, 'thermore': 1989, 'unusual': 1990, 'enhance': 1991, 'char': 1992, 'somewhere': 1993, 'pure': 1994, 'incorpo': 1995, 'rated': 1996, 'narrow': 1997, 'creation': 1998, 'opportunity': 1999, 'course': 2000, 'plethora': 2001, 'consuming': 2002, 'careful': 2003, 'develop': 2004}\n",
      "total words: 2005\n"
     ]
    }
   ],
   "source": [
    "# Initialize the Tokenizer class\n",
    "tokenizer = Tokenizer(num_words=2026, oov_token = '<oov>')\n",
    "\n",
    "# Generate the word index dictionary\n",
    "tokenizer.fit_on_texts(corpus)\n",
    "\n",
    "# Define the total words. You add 1 for the index `0` which is just the padding token.\n",
    "total_words = len(tokenizer.word_index) + 1\n",
    "\n",
    "print(f'word index dictionary: {tokenizer.word_index}')\n",
    "print(f'total words: {total_words}')"
   ]
  },
  {
   "cell_type": "code",
   "execution_count": 7,
   "id": "d80c66f4",
   "metadata": {},
   "outputs": [],
   "source": [
    "# Initialize the sequences list\n",
    "input_sequences = []\n",
    "\n",
    "# Loop over every line\n",
    "for line in corpus:\n",
    "\n",
    "    # Tokenize the current line\n",
    "    token_list = tokenizer.texts_to_sequences([line])[0]\n",
    "\n",
    "    # Loop over the line several times to generate the subphrases\n",
    "    for i in range(1, len(token_list)):\n",
    "\n",
    "        # Generate the subphrase\n",
    "        n_gram_sequence = token_list[:i+1]\n",
    "\n",
    "        # Append the subphrase to the sequences list\n",
    "        input_sequences.append(n_gram_sequence)\n",
    "\n",
    "# Get the length of the longest line\n",
    "max_sequence_len = max([len(x) for x in input_sequences])\n",
    "\n",
    "# Pad all sequences\n",
    "input_sequences = np.array(pad_sequences(input_sequences, maxlen=max_sequence_len, padding='pre'))\n",
    "\n",
    "# Create inputs and label by splitting the last token in the subphrases\n",
    "xs, labels = input_sequences[:,:-1],input_sequences[:,-1]\n",
    "\n",
    "# Convert the label into one-hot arrays\n",
    "ys = tf.keras.utils.to_categorical(labels, num_classes=total_words)"
   ]
  },
  {
   "cell_type": "code",
   "execution_count": 8,
   "id": "225f9a25",
   "metadata": {},
   "outputs": [
    {
     "name": "stdout",
     "output_type": "stream",
     "text": [
      "sample sentence: ['the', 'reasoning', 'for', 'this', 'name', 'is', 'due', 'to', 'its', 'remarkable', 'properties']\n",
      "[2, 1195, 19, 9, 1196, 6, 203, 7, 491, 866, 88]\n"
     ]
    }
   ],
   "source": [
    "# Get sample sentence\n",
    "sentence = corpus[1].split()\n",
    "print(f'sample sentence: {sentence}')\n",
    "\n",
    "# Initialize token list\n",
    "token_list = []\n",
    "\n",
    "# Look up the indices of each word and append to the list\n",
    "for word in sentence: \n",
    "  token_list.append(tokenizer.word_index[word])\n",
    "\n",
    "# Print the token list\n",
    "print(token_list)"
   ]
  },
  {
   "cell_type": "markdown",
   "id": "17edbc0f",
   "metadata": {},
   "source": [
    "## Create model <a id=\"Createmodel\"></a>"
   ]
  },
  {
   "cell_type": "code",
   "execution_count": 9,
   "id": "f43dc75d",
   "metadata": {},
   "outputs": [
    {
     "name": "stdout",
     "output_type": "stream",
     "text": [
      "Metal device set to: Apple M1\n"
     ]
    },
    {
     "name": "stderr",
     "output_type": "stream",
     "text": [
      "2022-09-07 13:25:30.105651: I tensorflow/core/common_runtime/pluggable_device/pluggable_device_factory.cc:305] Could not identify NUMA node of platform GPU ID 0, defaulting to 0. Your kernel may not have been built with NUMA support.\n",
      "2022-09-07 13:25:30.105983: I tensorflow/core/common_runtime/pluggable_device/pluggable_device_factory.cc:271] Created TensorFlow device (/job:localhost/replica:0/task:0/device:GPU:0 with 0 MB memory) -> physical PluggableDevice (device: 0, name: METAL, pci bus id: <undefined>)\n"
     ]
    },
    {
     "name": "stdout",
     "output_type": "stream",
     "text": [
      "Model: \"sequential\"\n",
      "_________________________________________________________________\n",
      " Layer (type)                Output Shape              Param #   \n",
      "=================================================================\n",
      " embedding (Embedding)       (None, 88, 100)           200500    \n",
      "                                                                 \n",
      " bidirectional (Bidirectiona  (None, 300)              301200    \n",
      " l)                                                              \n",
      "                                                                 \n",
      " dense (Dense)               (None, 2005)              603505    \n",
      "                                                                 \n",
      "=================================================================\n",
      "Total params: 1,105,205\n",
      "Trainable params: 1,105,205\n",
      "Non-trainable params: 0\n",
      "_________________________________________________________________\n"
     ]
    }
   ],
   "source": [
    "# Hyperparameters\n",
    "embedding_dim = 100\n",
    "lstm_units = 150\n",
    "learning_rate = 0.01\n",
    "\n",
    "# Build the model\n",
    "model = Sequential([\n",
    "          Embedding(total_words, embedding_dim, input_length=max_sequence_len-1),\n",
    "          Bidirectional(LSTM(lstm_units)),\n",
    "          Dense(total_words, activation='softmax')\n",
    "])\n",
    "\n",
    "# Use categorical crossentropy because this is a multi-class problem\n",
    "model.compile(\n",
    "    loss='categorical_crossentropy', \n",
    "    optimizer=tf.keras.optimizers.Adam(learning_rate=learning_rate), \n",
    "    metrics=['accuracy']\n",
    "    )\n",
    "\n",
    "# Print the model summary\n",
    "model.summary()"
   ]
  },
  {
   "cell_type": "code",
   "execution_count": null,
   "id": "a2b82a13",
   "metadata": {},
   "outputs": [
    {
     "name": "stdout",
     "output_type": "stream",
     "text": [
      "Epoch 1/30\n"
     ]
    },
    {
     "name": "stderr",
     "output_type": "stream",
     "text": [
      "2022-09-07 13:25:30.741770: W tensorflow/core/platform/profile_utils/cpu_utils.cc:128] Failed to get CPU frequency: 0 Hz\n",
      "2022-09-07 13:25:31.811111: I tensorflow/core/grappler/optimizers/custom_graph_optimizer_registry.cc:113] Plugin optimizer for device_type GPU is enabled.\n",
      "2022-09-07 13:25:32.141636: I tensorflow/core/grappler/optimizers/custom_graph_optimizer_registry.cc:113] Plugin optimizer for device_type GPU is enabled.\n",
      "2022-09-07 13:25:32.158135: I tensorflow/core/grappler/optimizers/custom_graph_optimizer_registry.cc:113] Plugin optimizer for device_type GPU is enabled.\n",
      "2022-09-07 13:25:32.530723: I tensorflow/core/grappler/optimizers/custom_graph_optimizer_registry.cc:113] Plugin optimizer for device_type GPU is enabled.\n",
      "2022-09-07 13:25:32.555211: I tensorflow/core/grappler/optimizers/custom_graph_optimizer_registry.cc:113] Plugin optimizer for device_type GPU is enabled.\n"
     ]
    },
    {
     "name": "stdout",
     "output_type": "stream",
     "text": [
      "467/467 [==============================] - 36s 71ms/step - loss: 5.7617 - accuracy: 0.1456\n",
      "Epoch 2/30\n",
      "467/467 [==============================] - 33s 70ms/step - loss: 4.5254 - accuracy: 0.2475\n",
      "Epoch 3/30\n",
      "467/467 [==============================] - 31s 66ms/step - loss: 3.7621 - accuracy: 0.3023\n",
      "Epoch 4/30\n",
      "467/467 [==============================] - 30s 64ms/step - loss: 3.1957 - accuracy: 0.3477\n",
      "Epoch 5/30\n",
      "467/467 [==============================] - 30s 64ms/step - loss: 2.7626 - accuracy: 0.3939\n",
      "Epoch 6/30\n",
      " 94/467 [=====>........................] - ETA: 23s - loss: 2.1367 - accuracy: 0.4977"
     ]
    }
   ],
   "source": [
    "epochs = 30\n",
    "\n",
    "# Train the model\n",
    "history = model.fit(xs, ys, epochs=epochs)"
   ]
  },
  {
   "cell_type": "markdown",
   "id": "41731eb5",
   "metadata": {},
   "source": [
    "## Plot results <a id=\"Plot\"></a>"
   ]
  },
  {
   "cell_type": "code",
   "execution_count": null,
   "id": "07c7df81",
   "metadata": {},
   "outputs": [],
   "source": [
    "import matplotlib.pyplot as plt\n",
    "\n",
    "# Plot utility\n",
    "def plot_graphs(history, string):\n",
    "  plt.plot(history.history[string])\n",
    "  plt.xlabel(\"Epochs\")\n",
    "  plt.ylabel(string)\n",
    "  plt.show()\n",
    "\n",
    "# Visualize the accuracy\n",
    "plot_graphs(history, 'accuracy')\n",
    "plot_graphs(history, 'loss')"
   ]
  },
  {
   "cell_type": "markdown",
   "id": "81a5949f",
   "metadata": {},
   "source": [
    "## Generate text <a id=\"Generate\"></a>"
   ]
  },
  {
   "cell_type": "code",
   "execution_count": null,
   "id": "6b4951bf",
   "metadata": {},
   "outputs": [],
   "source": [
    "# Define seed text\n",
    "seed_text = \"rese is a\"\n",
    "\n",
    "# Define total words to predict\n",
    "next_words = 5\n",
    "\n",
    "# Loop until desired length is reached\n",
    "for _ in range(next_words):\n",
    "\n",
    "    # Convert the seed text to a token sequence\n",
    "    token_list = tokenizer.texts_to_sequences([seed_text])[0]\n",
    "\n",
    "    # Pad the sequence\n",
    "    token_list = pad_sequences([token_list], maxlen=max_sequence_len-1, padding='pre')\n",
    "\n",
    "    # Feed to the model and get the probabilities for each index\n",
    "    probabilities = model.predict(token_list)\n",
    "\n",
    "    # Get the index with the highest probability\n",
    "    predicted = np.argmax(probabilities, axis=-1)[0]\n",
    "\n",
    "    # Ignore if index is 0 because that is just the padding.\n",
    "    if predicted != 0:\n",
    "\n",
    "        # Look up the word associated with the index. \n",
    "        output_word = tokenizer.index_word[predicted]\n",
    "\n",
    "        # Combine with the seed text\n",
    "        seed_text += \" \" + output_word\n",
    "\n",
    "# Print the result\t\n",
    "print(seed_text)"
   ]
  }
 ],
 "metadata": {
  "kernelspec": {
   "display_name": "mlp",
   "language": "python",
   "name": "mlp"
  },
  "language_info": {
   "codemirror_mode": {
    "name": "ipython",
    "version": 3
   },
   "file_extension": ".py",
   "mimetype": "text/x-python",
   "name": "python",
   "nbconvert_exporter": "python",
   "pygments_lexer": "ipython3",
   "version": "3.8.13"
  }
 },
 "nbformat": 4,
 "nbformat_minor": 5
}
